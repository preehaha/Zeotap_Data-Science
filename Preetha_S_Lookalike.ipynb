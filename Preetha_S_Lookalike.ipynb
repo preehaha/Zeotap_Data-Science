{
 "cells": [
  {
   "cell_type": "code",
   "execution_count": 1,
   "id": "bff56593",
   "metadata": {},
   "outputs": [],
   "source": [
    "import pandas as pd\n",
    "from sklearn.metrics.pairwise import cosine_similarity\n",
    "from sklearn.preprocessing import StandardScaler\n",
    "import numpy as np"
   ]
  },
  {
   "cell_type": "code",
   "execution_count": 2,
   "id": "9c7bc4dc",
   "metadata": {},
   "outputs": [],
   "source": [
    "customers = pd.read_csv(\"Customers.csv\")\n",
    "products = pd.read_csv(\"Products.csv\")\n",
    "transactions = pd.read_csv(\"Transactions.csv\")"
   ]
  },
  {
   "cell_type": "code",
   "execution_count": 3,
   "id": "8d86f630",
   "metadata": {},
   "outputs": [],
   "source": [
    "#merge dataset with products\n",
    "transactions_products = transactions.merge(products, on=\"ProductID\")"
   ]
  },
  {
   "cell_type": "code",
   "execution_count": 4,
   "id": "0e0034ab",
   "metadata": {},
   "outputs": [],
   "source": [
    "# Merge with customers\n",
    "full_data = transactions_products.merge(customers, on=\"CustomerID\")"
   ]
  },
  {
   "cell_type": "code",
   "execution_count": 5,
   "id": "db864595",
   "metadata": {},
   "outputs": [
    {
     "name": "stdout",
     "output_type": "stream",
     "text": [
      "  TransactionID CustomerID ProductID      TransactionDate  Quantity  \\\n",
      "0        T00001      C0199      P067  2024-08-25 12:38:23         1   \n",
      "1        T00761      C0199      P022  2024-10-01 05:57:09         4   \n",
      "2        T00626      C0199      P079  2024-08-17 12:06:08         2   \n",
      "3        T00963      C0199      P008  2024-10-26 00:01:58         2   \n",
      "4        T00112      C0146      P067  2024-05-27 22:23:54         1   \n",
      "\n",
      "   TotalValue  Price_x                      ProductName     Category  Price_y  \\\n",
      "0      300.68   300.68  ComfortLiving Bluetooth Speaker  Electronics   300.68   \n",
      "1      550.16   137.54               HomeSense Wall Art   Home Decor   137.54   \n",
      "2      834.74   417.37                   ActiveWear Rug   Home Decor   417.37   \n",
      "3      293.70   146.85      BookWorld Bluetooth Speaker  Electronics   146.85   \n",
      "4      300.68   300.68  ComfortLiving Bluetooth Speaker  Electronics   300.68   \n",
      "\n",
      "      CustomerName  Region  SignupDate  \n",
      "0   Andrea Jenkins  Europe  2022-12-03  \n",
      "1   Andrea Jenkins  Europe  2022-12-03  \n",
      "2   Andrea Jenkins  Europe  2022-12-03  \n",
      "3   Andrea Jenkins  Europe  2022-12-03  \n",
      "4  Brittany Harvey    Asia  2024-09-04  \n"
     ]
    }
   ],
   "source": [
    "print(full_data.head())"
   ]
  },
  {
   "cell_type": "code",
   "execution_count": 6,
   "id": "7500b1d1",
   "metadata": {},
   "outputs": [],
   "source": [
    "#aggregating data\n",
    "customer_features = full_data.groupby(\"CustomerID\").agg(\n",
    "    TotalSpent=(\"TotalValue\", \"sum\"),        \n",
    "    AvgSpent=(\"TotalValue\", \"mean\"),         \n",
    "    ProductCount=(\"ProductID\", \"nunique\"),   \n",
    "    TotalTransactions=(\"TransactionID\", \"count\"),  \n",
    "    Categories=(\"Category\", lambda x: x.mode()[0])\n",
    ").reset_index()"
   ]
  },
  {
   "cell_type": "code",
   "execution_count": 7,
   "id": "cdca3612",
   "metadata": {},
   "outputs": [],
   "source": [
    "customer_features = pd.get_dummies(customer_features, columns=[\"Categories\"], prefix=\"Category\")"
   ]
  },
  {
   "cell_type": "code",
   "execution_count": 8,
   "id": "d3ed7b93",
   "metadata": {},
   "outputs": [
    {
     "name": "stdout",
     "output_type": "stream",
     "text": [
      "  CustomerID  TotalSpent  AvgSpent  ProductCount  TotalTransactions  \\\n",
      "0      C0001     3354.52   670.904             5                  5   \n",
      "1      C0002     1862.74   465.685             4                  4   \n",
      "2      C0003     2725.38   681.345             4                  4   \n",
      "3      C0004     5354.88   669.360             8                  8   \n",
      "4      C0005     2034.24   678.080             3                  3   \n",
      "\n",
      "   Category_Books  Category_Clothing  Category_Electronics  \\\n",
      "0               0                  0                     1   \n",
      "1               0                  1                     0   \n",
      "2               0                  0                     0   \n",
      "3               1                  0                     0   \n",
      "4               0                  0                     1   \n",
      "\n",
      "   Category_Home Decor  \n",
      "0                    0  \n",
      "1                    0  \n",
      "2                    1  \n",
      "3                    0  \n",
      "4                    0  \n"
     ]
    }
   ],
   "source": [
    "print(customer_features.head())"
   ]
  },
  {
   "cell_type": "code",
   "execution_count": 9,
   "id": "51b6ea5a",
   "metadata": {},
   "outputs": [],
   "source": [
    "#customer similarities\n",
    "scaler = StandardScaler()\n",
    "features_scaled = scaler.fit_transform(customer_features.drop(columns=[\"CustomerID\"]))\n",
    "\n",
    "similarity_matrix = cosine_similarity(features_scaled)\n",
    "similarity_df = pd.DataFrame(similarity_matrix, index=customer_features[\"CustomerID\"], columns=customer_features[\"CustomerID\"])\n",
    "target_customers = customer_features[\"CustomerID\"].iloc[:20]\n",
    "lookalike_results = {}\n",
    "\n",
    "for cust_id in target_customers:\n",
    "    similar_customers = similarity_df[cust_id].sort_values(ascending=False).drop(cust_id).head(3)\n",
    "    lookalike_results[cust_id] = [(similar_cust, score) for similar_cust, score in zip(similar_customers.index, similar_customers.values)]"
   ]
  },
  {
   "cell_type": "code",
   "execution_count": 10,
   "id": "56b5e009",
   "metadata": {},
   "outputs": [
    {
     "name": "stdout",
     "output_type": "stream",
     "text": [
      "Lookalike model results saved to 'Preetha_S_Lookalike.csv'\n"
     ]
    }
   ],
   "source": [
    "#saving results into CSV file\n",
    "lookalike_data = []\n",
    "\n",
    "for cust_id, lookalikes in lookalike_results.items():\n",
    "    lookalike_list = \", \".join([f\"[{similar_cust}, {round(score, 2)}]\" for similar_cust, score in lookalikes])\n",
    "    lookalike_data.append({\"cust_id\": cust_id, \"Lookalikes\": lookalike_list})\n",
    "\n",
    "lookalike_df = pd.DataFrame(lookalike_data)\n",
    "lookalike_df.to_csv(\"Preetha_S_Lookalike.csv\", index=False)\n",
    "\n",
    "print(\"Lookalike model results saved to 'Preetha_S_Lookalike.csv'\")"
   ]
  },
  {
   "cell_type": "code",
   "execution_count": null,
   "id": "b9c9078a",
   "metadata": {},
   "outputs": [],
   "source": []
  }
 ],
 "metadata": {
  "kernelspec": {
   "display_name": "Python 3 (ipykernel)",
   "language": "python",
   "name": "python3"
  },
  "language_info": {
   "codemirror_mode": {
    "name": "ipython",
    "version": 3
   },
   "file_extension": ".py",
   "mimetype": "text/x-python",
   "name": "python",
   "nbconvert_exporter": "python",
   "pygments_lexer": "ipython3",
   "version": "3.11.4"
  }
 },
 "nbformat": 4,
 "nbformat_minor": 5
}
